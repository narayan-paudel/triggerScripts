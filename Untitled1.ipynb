{
 "cells": [
  {
   "cell_type": "code",
   "execution_count": 1,
   "id": "70e6e95e-d391-4c67-9051-ecec7a662c56",
   "metadata": {},
   "outputs": [],
   "source": [
    "import numpy as np\n",
    "from icecube import icetray, dataclasses, dataio\n",
    "from icecube.icetray import I3Units\n",
    "import os\n",
    "import numpy"
   ]
  },
  {
   "cell_type": "code",
   "execution_count": 2,
   "id": "ce457a80-8d95-449a-adfb-f66a085238cb",
   "metadata": {},
   "outputs": [],
   "source": [
    "gcd_file = \"/data/user/enpaudel/triggerStudy/simFiles/GeoCalibDetectorStatus_2020.Run135057.Pass2_V0_Snow210305.i3.gz\""
   ]
  },
  {
   "cell_type": "code",
   "execution_count": 10,
   "id": "7cf816ce-8ce2-4831-9b47-62a9fba692a3",
   "metadata": {},
   "outputs": [
    {
     "name": "stderr",
     "output_type": "stream",
     "text": [
      "FATAL (icetray): problems opening file '/home/acoleman/work/datasets/gcd-files/GCD-Survey-AntITScint_2020.02.24.i3.gz' for reading.  Check permissions, paths. (open.cxx:103 in void I3::dataio::open(boost::iostreams::filtering_istream&, const string&))\n"
     ]
    },
    {
     "ename": "RuntimeError",
     "evalue": "problems opening file '/home/acoleman/work/datasets/gcd-files/GCD-Survey-AntITScint_2020.02.24.i3.gz' for reading.  Check permissions, paths. (in void I3::dataio::open(boost::iostreams::filtering_istream&, const string&))",
     "output_type": "error",
     "traceback": [
      "\u001b[0;31m---------------------------------------------------------------------------\u001b[0m",
      "\u001b[0;31mRuntimeError\u001b[0m                              Traceback (most recent call last)",
      "\u001b[0;32m/tmp/ipykernel_106/342876926.py\u001b[0m in \u001b[0;36m<module>\u001b[0;34m\u001b[0m\n\u001b[0;32m----> 1\u001b[0;31m \u001b[0;32mfor\u001b[0m \u001b[0mf\u001b[0m \u001b[0;32min\u001b[0m \u001b[0mdataio\u001b[0m\u001b[0;34m.\u001b[0m\u001b[0mI3File\u001b[0m\u001b[0;34m(\u001b[0m\u001b[0mgcd_file\u001b[0m\u001b[0;34m,\u001b[0m\u001b[0;34m'r'\u001b[0m\u001b[0;34m)\u001b[0m\u001b[0;34m:\u001b[0m\u001b[0;34m\u001b[0m\u001b[0;34m\u001b[0m\u001b[0m\n\u001b[0m\u001b[1;32m      2\u001b[0m     \u001b[0;32mif\u001b[0m \u001b[0mf\u001b[0m\u001b[0;34m.\u001b[0m\u001b[0mStop\u001b[0m \u001b[0;34m==\u001b[0m \u001b[0micetray\u001b[0m\u001b[0;34m.\u001b[0m\u001b[0mI3Frame\u001b[0m\u001b[0;34m.\u001b[0m\u001b[0mGeometry\u001b[0m\u001b[0;34m:\u001b[0m\u001b[0;34m\u001b[0m\u001b[0;34m\u001b[0m\u001b[0m\n\u001b[1;32m      3\u001b[0m         \u001b[0mprint\u001b[0m\u001b[0;34m(\u001b[0m\u001b[0mf\u001b[0m\u001b[0;34m[\u001b[0m\u001b[0;34m'I3Geometry'\u001b[0m\u001b[0;34m]\u001b[0m\u001b[0;34m)\u001b[0m\u001b[0;34m\u001b[0m\u001b[0;34m\u001b[0m\u001b[0m\n\u001b[1;32m      4\u001b[0m \u001b[0;34m\u001b[0m\u001b[0m\n",
      "\u001b[0;31mRuntimeError\u001b[0m: problems opening file '/home/acoleman/work/datasets/gcd-files/GCD-Survey-AntITScint_2020.02.24.i3.gz' for reading.  Check permissions, paths. (in void I3::dataio::open(boost::iostreams::filtering_istream&, const string&))"
     ]
    }
   ],
   "source": [
    "for f in dataio.I3File(gcd_file,'r'):\n",
    "    if f.Stop == icetray.I3Frame.Geometry:\n",
    "        print(f['I3Geometry'])\n",
    "        geom = f['I3Geometry']\n",
    "        omgei = geom.\n",
    "        \n"
   ]
  },
  {
   "cell_type": "code",
   "execution_count": null,
   "id": "1197ae94-0b24-4575-97cd-f03273fbc386",
   "metadata": {},
   "outputs": [],
   "source": []
  }
 ],
 "metadata": {
  "kernelspec": {
   "display_name": "Python 3 (ipykernel)",
   "language": "python",
   "name": "python3"
  },
  "language_info": {
   "codemirror_mode": {
    "name": "ipython",
    "version": 3
   },
   "file_extension": ".py",
   "mimetype": "text/x-python",
   "name": "python",
   "nbconvert_exporter": "python",
   "pygments_lexer": "ipython3",
   "version": "3.8.10"
  }
 },
 "nbformat": 4,
 "nbformat_minor": 5
}
